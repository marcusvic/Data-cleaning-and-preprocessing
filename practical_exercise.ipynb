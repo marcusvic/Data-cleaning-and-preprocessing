{
 "cells": [
  {
   "cell_type": "code",
   "execution_count": 1,
   "metadata": {},
   "outputs": [],
   "source": [
    "import pandas as pd\n",
    "import numpy as np\n",
    "import data_clean_functions as dc\n",
    "from sklearn.preprocessing import StandardScaler, MinMaxScaler\n",
    "\n",
    "# guarantee we always generate the same random numbers\n",
    "np.random.seed(0)\n",
    "\n",
    "# Create a dummy dataset\n",
    "dummy_data = {\n",
    "    # Normally distributed with an outlier in the end\n",
    "    'Feature1': np.random.normal(100, 10, 100).tolist() + [np.nan, 200],\n",
    "    'Feature2': np.random.randint(0, 100, 102).tolist(),  # 102 Random integers\n",
    "    # Categorical with some missing values\n",
    "    'Category': ['A', 'B', 'C', 'D'] * 25 + [np.nan, 'A'],\n",
    "    'Target': np.random.choice([0, 1], 102).tolist()  # Binary target variable\n",
    "}"
   ]
  },
  {
   "cell_type": "code",
   "execution_count": 2,
   "metadata": {},
   "outputs": [],
   "source": [
    "# Convert the dictionary to a pandas DataFrame\n",
    "df_dummy = pd.DataFrame(dummy_data)"
   ]
  },
  {
   "cell_type": "code",
   "execution_count": 3,
   "metadata": {},
   "outputs": [
    {
     "name": "stdout",
     "output_type": "stream",
     "text": [
      "     Feature1  Feature2 Category  Target\n",
      "0  117.640523        32        A       1\n",
      "1  104.001572        70        B       1\n",
      "2  109.787380        85        C       0\n",
      "3  122.408932        31        D       1\n",
      "4  118.675580        13        A       0\n",
      "         Feature1    Feature2      Target\n",
      "count  101.000000  102.000000  102.000000\n",
      "mean   101.582258   45.754902    0.529412\n",
      "std     14.121324   27.154649    0.501599\n",
      "min     74.470102    0.000000    0.000000\n",
      "25%     93.656779   27.250000    0.000000\n",
      "50%    101.216750   40.500000    1.000000\n",
      "75%    107.610377   69.000000    1.000000\n",
      "max    200.000000   97.000000    1.000000\n"
     ]
    }
   ],
   "source": [
    "# Check the dataset\n",
    "print(df_dummy.head())\n",
    "print(df_dummy.describe())"
   ]
  },
  {
   "cell_type": "code",
   "execution_count": 4,
   "metadata": {},
   "outputs": [],
   "source": [
    "# Save the cleaned and preprocessed DataFrame to a CSV file just to have it:\n",
    "dc.save_data(df_dummy, 'preprocessed_dummy_data.csv')"
   ]
  },
  {
   "cell_type": "code",
   "execution_count": 5,
   "metadata": {},
   "outputs": [
    {
     "name": "stdout",
     "output_type": "stream",
     "text": [
      "         Feature1    Feature2      Target\n",
      "count  101.000000  102.000000  102.000000\n",
      "mean   101.582258   45.754902    0.529412\n",
      "std     14.121324   27.154649    0.501599\n",
      "min     74.470102    0.000000    0.000000\n",
      "25%     93.656779   27.250000    0.000000\n",
      "50%    101.216750   40.500000    1.000000\n",
      "75%    107.610377   69.000000    1.000000\n",
      "max    200.000000   97.000000    1.000000\n",
      "     Feature1  Feature2 Category  Target\n",
      "0  117.640523        32        A       1\n",
      "1  104.001572        70        B       1\n",
      "2  109.787380        85        C       0\n",
      "3  122.408932        31        D       1\n",
      "4  118.675580        13        A       0\n"
     ]
    }
   ],
   "source": [
    "# preprocessing the data with the functions we've written in the data_clean_functions file:\n",
    "# Load the data\n",
    "df_preprocessed = dc.load_data(\"preprocessed_dummy_data.csv\")\n",
    "print(df_preprocessed.describe())\n",
    "print(df_preprocessed.head())"
   ]
  },
  {
   "cell_type": "code",
   "execution_count": 6,
   "metadata": {},
   "outputs": [
    {
     "name": "stdout",
     "output_type": "stream",
     "text": [
      "         Feature1    Feature2      Target\n",
      "count  101.000000  101.000000  101.000000\n",
      "mean   101.582258   45.881188    0.524752\n",
      "std     14.121324   27.259966    0.501878\n",
      "min     74.470102    0.000000    0.000000\n",
      "25%     93.656779   27.000000    0.000000\n",
      "50%    101.216750   41.000000    1.000000\n",
      "75%    107.610377   69.000000    1.000000\n",
      "max    200.000000   97.000000    1.000000\n",
      "     Feature1  Feature2 Category  Target\n",
      "0  117.640523        32        A       1\n",
      "1  104.001572        70        B       1\n",
      "2  109.787380        85        C       0\n",
      "3  122.408932        31        D       1\n",
      "4  118.675580        13        A       0\n"
     ]
    }
   ],
   "source": [
    "# Handle missing values: removing NAs since it's only 1 row\n",
    "df_preprocessed = df_preprocessed.dropna()\n",
    "print(df_preprocessed.describe())\n",
    "print(df_preprocessed.head())"
   ]
  },
  {
   "cell_type": "code",
   "execution_count": 7,
   "metadata": {},
   "outputs": [
    {
     "name": "stdout",
     "output_type": "stream",
     "text": [
      "can't process column \"Category\", skipping\n",
      "         Feature1    Feature2      Target\n",
      "count  100.000000  100.000000  100.000000\n",
      "mean   100.598080   46.160000    0.530000\n",
      "std     10.129598   27.252178    0.501614\n",
      "min     74.470102    0.000000    0.000000\n",
      "25%     93.561433   27.750000    0.000000\n",
      "50%    100.940961   41.000000    1.000000\n",
      "75%    107.370774   69.250000    1.000000\n",
      "max    122.697546   97.000000    1.000000\n",
      "     Feature1  Feature2 Category  Target\n",
      "0  117.640523        32        A       1\n",
      "1  104.001572        70        B       1\n",
      "2  109.787380        85        C       0\n",
      "3  122.408932        31        D       1\n",
      "4  118.675580        13        A       0\n"
     ]
    }
   ],
   "source": [
    "# Remove outliers: removing since it seems to be an error\n",
    "df_preprocessed = dc.remove_outliers(df_preprocessed, 3)\n",
    "\n",
    "print(df_preprocessed.describe())\n",
    "print(df_preprocessed.head())"
   ]
  },
  {
   "cell_type": "code",
   "execution_count": 8,
   "metadata": {},
   "outputs": [
    {
     "name": "stdout",
     "output_type": "stream",
     "text": [
      "         Feature1    Feature2      Target\n",
      "count  100.000000  100.000000  100.000000\n",
      "mean   100.521199   46.160000    0.530000\n",
      "std      9.974297   27.252178    0.501614\n",
      "min     74.470102    0.000000    0.000000\n",
      "25%     93.561433   27.750000    0.000000\n",
      "50%    100.940961   41.000000    1.000000\n",
      "75%    107.370774   69.250000    1.000000\n",
      "max    118.975358   97.000000    1.000000\n",
      "     Feature1  Feature2 Category  Target\n",
      "0  117.640523        32        A       1\n",
      "1  104.001572        70        B       1\n",
      "2  109.787380        85        C       0\n",
      "3  118.975358        31        D       1\n",
      "4  118.675580        13        A       0\n"
     ]
    }
   ],
   "source": [
    "# caping a column with the function to do that:\n",
    "df_preprocessed = dc.cap_column_quantile(df_preprocessed, \"Feature1\", 0.97)\n",
    "print(df_preprocessed.describe())\n",
    "print(df_preprocessed.head())"
   ]
  },
  {
   "cell_type": "code",
   "execution_count": 9,
   "metadata": {},
   "outputs": [],
   "source": [
    "df_preprocessed = dc.scale_data(df_preprocessed)"
   ]
  },
  {
   "cell_type": "code",
   "execution_count": 10,
   "metadata": {},
   "outputs": [
    {
     "name": "stdout",
     "output_type": "stream",
     "text": [
      "      Feature1  Feature2 Category  Target  scaled-Feature1  scaled-Feature2  \\\n",
      "0   117.640523        32        A       1         1.724991        -0.522209   \n",
      "1   104.001572        70        B       1         0.350692         0.879200   \n",
      "2   109.787380        85        C       0         0.933686         1.432387   \n",
      "3   118.975358        31        D       1         1.859492        -0.559088   \n",
      "4   118.675580        13        A       0         1.829286        -1.222913   \n",
      "..         ...       ...      ...     ...              ...              ...   \n",
      "95  107.065732        25        D       0         0.659445        -0.780363   \n",
      "96  100.105000        67        A       0        -0.041937         0.768562   \n",
      "97  117.858705        35        B       1         1.746975        -0.411572   \n",
      "98  101.269121        30        C       1         0.075363        -0.595967   \n",
      "99  104.019894        29        D       1         0.352538        -0.632847   \n",
      "\n",
      "    scaled-Target  \n",
      "0        0.941697  \n",
      "1        0.941697  \n",
      "2       -1.061913  \n",
      "3        0.941697  \n",
      "4       -1.061913  \n",
      "..            ...  \n",
      "95      -1.061913  \n",
      "96      -1.061913  \n",
      "97       0.941697  \n",
      "98       0.941697  \n",
      "99       0.941697  \n",
      "\n",
      "[100 rows x 7 columns]\n"
     ]
    }
   ],
   "source": [
    "print(df_preprocessed)"
   ]
  },
  {
   "cell_type": "code",
   "execution_count": 11,
   "metadata": {},
   "outputs": [
    {
     "name": "stdout",
     "output_type": "stream",
     "text": [
      "     Feature1  Feature2  Target  scaled-Feature1  scaled-Feature2  \\\n",
      "0  117.640523        32       1         1.724991        -0.522209   \n",
      "1  104.001572        70       1         0.350692         0.879200   \n",
      "2  109.787380        85       0         0.933686         1.432387   \n",
      "3  118.975358        31       1         1.859492        -0.559088   \n",
      "4  118.675580        13       0         1.829286        -1.222913   \n",
      "\n",
      "   scaled-Target  Category_A  Category_B  Category_C  Category_D  \n",
      "0       0.941697        True       False       False       False  \n",
      "1       0.941697       False        True       False       False  \n",
      "2      -1.061913       False       False        True       False  \n",
      "3       0.941697       False       False       False        True  \n",
      "4      -1.061913        True       False       False       False  \n",
      "         Feature1    Feature2      Target  scaled-Feature1  scaled-Feature2  \\\n",
      "count  100.000000  100.000000  100.000000     1.000000e+02     1.000000e+02   \n",
      "mean   100.521199   46.160000    0.530000    -1.597056e-15     1.254552e-16   \n",
      "std      9.974297   27.252178    0.501614     1.005038e+00     1.005038e+00   \n",
      "min     74.470102    0.000000    0.000000    -2.624981e+00    -1.702343e+00   \n",
      "25%     93.561433   27.750000    0.000000    -7.012853e-01    -6.789456e-01   \n",
      "50%    100.940961   41.000000    1.000000     4.229645e-02    -1.902965e-01   \n",
      "75%    107.370774   69.250000    1.000000     6.901822e-01     8.515401e-01   \n",
      "max    118.975358   97.000000    1.000000     1.859492e+00     1.874937e+00   \n",
      "\n",
      "       scaled-Target  \n",
      "count   1.000000e+02  \n",
      "mean    2.442491e-17  \n",
      "std     1.005038e+00  \n",
      "min    -1.061913e+00  \n",
      "25%    -1.061913e+00  \n",
      "50%     9.416966e-01  \n",
      "75%     9.416966e-01  \n",
      "max     9.416966e-01  \n"
     ]
    }
   ],
   "source": [
    "# Convert categorical variables into a numerical format that machine learning algorithms can process\n",
    "df_processed = dc.encode_categorical(\n",
    "    df_preprocessed, categorical_columns=[\"Category\"])\n",
    "print(df_processed.head())\n",
    "print(df_processed.describe())"
   ]
  },
  {
   "cell_type": "code",
   "execution_count": 12,
   "metadata": {},
   "outputs": [],
   "source": [
    "dc.save_data(df_processed, \"processed_data.csv\")"
   ]
  }
 ],
 "metadata": {
  "kernelspec": {
   "display_name": "Data_cleaning_and_preprocessing-dJfE2yHa",
   "language": "python",
   "name": "python3"
  },
  "language_info": {
   "codemirror_mode": {
    "name": "ipython",
    "version": 3
   },
   "file_extension": ".py",
   "mimetype": "text/x-python",
   "name": "python",
   "nbconvert_exporter": "python",
   "pygments_lexer": "ipython3",
   "version": "3.13.0"
  }
 },
 "nbformat": 4,
 "nbformat_minor": 2
}
